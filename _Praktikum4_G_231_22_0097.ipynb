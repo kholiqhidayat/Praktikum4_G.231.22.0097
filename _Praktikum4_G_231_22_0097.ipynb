{
  "nbformat": 4,
  "nbformat_minor": 0,
  "metadata": {
    "colab": {
      "provenance": [],
      "authorship_tag": "ABX9TyORb7HqQRcp+wr0MqRjgjN9",
      "include_colab_link": true
    },
    "kernelspec": {
      "name": "python3",
      "display_name": "Python 3"
    },
    "language_info": {
      "name": "python"
    }
  },
  "cells": [
    {
      "cell_type": "markdown",
      "metadata": {
        "id": "view-in-github",
        "colab_type": "text"
      },
      "source": [
        "<a href=\"https://colab.research.google.com/github/kholiqhidayat/Praktikum4_G.231.22.0097/blob/main/_Praktikum4_G_231_22_0097.ipynb\" target=\"_parent\"><img src=\"https://colab.research.google.com/assets/colab-badge.svg\" alt=\"Open In Colab\"/></a>"
      ]
    },
    {
      "cell_type": "code",
      "execution_count": 37,
      "metadata": {
        "colab": {
          "base_uri": "https://localhost:8080/"
        },
        "id": "K4BCRLzZge5q",
        "outputId": "5b7bd8f2-f616-4b3c-93f5-d49131b2eca2"
      },
      "outputs": [
        {
          "output_type": "stream",
          "name": "stdout",
          "text": [
            "\"abcdefghijklmnopqrstuvwxyz\"\n",
            "adalah pangram\n"
          ]
        }
      ],
      "source": [
        "# Inisialisasi vektor bool dengan ukuran 26, masing-masing elemen diatur ke False\n",
        "mark = [False] * 26\n",
        "\n",
        "# Fungsi untuk mengecek apakah string adalah pangram atau bukan\n",
        "def isPangram(s):\n",
        "    # Iterasi melalui setiap karakter dalam string\n",
        "    for char in s:\n",
        "        # Jika karakter adalah huruf, tandai indeks yang sesuai di vektor mark\n",
        "        if 'a' <= char <= 'z':\n",
        "            mark[ord(char) - ord('a')] = True\n",
        "        elif 'A' <= char <= 'Z':\n",
        "            mark[ord(char) - ord('A')] = False\n",
        "\n",
        "    # Cek apakah semua indeks ditandai (True)\n",
        "    for i in range(26):\n",
        "        # Jika ada indeks yang tidak ditandai (False), string bukan pangram\n",
        "        if mark[i] == False:\n",
        "            return False\n",
        "\n",
        "    # Jika semua indeks ditandai, string adalah pangram\n",
        "    return True\n",
        "\n",
        "# Input string\n",
        "input_string = \"abcdefghijklmnopqrstuvwxyz\"\n",
        "# Memeriksa apakah string adalah pangram atau bukan\n",
        "if isPangram(input_string):\n",
        "    print('\"' + input_string + '\"')\n",
        "    print(\"adalah pangram\")\n",
        "else:\n",
        "    print('\"' + input_string + '\"')\n",
        "    print(\"bukan pangram\")\n",
        "\n"
      ]
    },
    {
      "cell_type": "code",
      "source": [
        "# A Python Program to check if the given\n",
        "# string is a pangram or not\n",
        "\n",
        "def checkPangram(s):\n",
        "    # create list of 26 characters and set false each entry\n",
        "    List = [False] * 26\n",
        "\n",
        "    # converting the sentence to lowercase and iterating\n",
        "    # over the sentence\n",
        "    for c in s.lower():\n",
        "        if 'a' <= c <= 'z':\n",
        "            # make the corresponding entry True\n",
        "            List[ord(c) - ord('a')] = True\n",
        "\n",
        "    # check if any character is missing then return False\n",
        "    for ch in List:\n",
        "        if ch == False:\n",
        "            return False\n",
        "    return True\n",
        "\n",
        "# Driver Program to test above functions\n",
        "sentence = \"The quick brown fox jumps over the little lazy dog\"\n",
        "\n",
        "if checkPangram(sentence):\n",
        "    print('\"' + sentence + '\"')\n",
        "    print(\"\\nis a pangram\")\n",
        "else:\n",
        "    print('\"' + sentence + '\"')\n",
        "    print(\"\\nis not a pangram\")\n"
      ],
      "metadata": {
        "colab": {
          "base_uri": "https://localhost:8080/"
        },
        "id": "xngI9Wa7niL1",
        "outputId": "6b089ec6-1cba-42dd-c545-07d77e4da9a2"
      },
      "execution_count": 4,
      "outputs": [
        {
          "output_type": "stream",
          "name": "stdout",
          "text": [
            "\"The quick brown fox jumps over the little lazy dog\"\n",
            "\n",
            "is a pangram\n"
          ]
        }
      ]
    }
  ]
}